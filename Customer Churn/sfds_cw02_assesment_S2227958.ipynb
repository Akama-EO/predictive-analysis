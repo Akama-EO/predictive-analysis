{
 "cells": [
  {
   "cell_type": "markdown",
   "metadata": {},
   "source": [
    "## -----------------------------------------------------------------\n",
    "# AI & ML - Coursework 2 - 1st diet\n",
    "## Student Name: Akama Emmanuel Ovokerie\n",
    "## Student ID: S2229758\n",
    "\n",
    "ATTESTATION: I confirm that the material contained within the submitted coursework is all my own work \n",
    "## -----------------------------------------------------------------"
   ]
  },
  {
   "cell_type": "markdown",
   "metadata": {},
   "source": [
    "# 1. Introduction to Machine Learning\n",
    "\n",
    "Machine Learning (ML) is a field of artificial intelligence (AI) that focuses on the development of algorithms and statistical models that enable computer systems to improve their performance on a specific task over time without being explicitly programmed. The primary goal of machine learning is to enable computers to learn from data, recognize patterns, and make decisions or predictions. Machine learning relies on data to train models. Data can include a variety of information, such as features, labels, and historical examples.\n",
    "\n",
    "A model is a mathematical representation or algorithm that learns patterns from data. The model is trained on a dataset and can make predictions or decisions on new, unseen data. Training a machine learning model involves exposing it to a labeled dataset (input-output pairs) to learn the patterns and relationships between the input features and the output. During training, the model adjusts its parameters to minimize the difference between its predictions and the actual labels. After training, the model is tested on a separate dataset to evaluate its performance. Performance metrics are used to assess how well the model generalizes to new, unseen data.\n",
    "\n",
    "There are three (3) major types of machine learning.\n",
    "- *Supervised Learning*: In supervised learning, the algorithm is trained on a labeled dataset, where each input is associated with a corresponding output. The goal is to learn a mapping from inputs to outputs.\n",
    "- *Unsupervised Learning*: Unkike supervised learning, in unsupervised learning, the algorithm is given unlabeled data and is tasked with finding patterns, structures, or relationships within the data without explicit guidance on what to learn.\n",
    "- *Reinforcement Learning*: Reinforcement learning is a type of machine learning that involves an agent interacting with an environment and learning to make decisions by receiving feedback in the form of rewards or punishments.\n",
    "\n",
    "Machine learning has a wide range of applications and is continuously evolving with advancements in algorithms, computational power, and the availability of large datasets. \n",
    "\n",
    "There are many applications of regression in business. For example, in marketing, regression is used for forecasting sales, analyzing customer behavior, and market research. In this report, we shall apply machine learning algorithms to predict the *Churn Score* of a fictional telco company that provides home phone and internet services to customers in Califonrnia."
   ]
  },
  {
   "cell_type": "markdown",
   "metadata": {},
   "source": [
    "# 2. Overview of the Dataset\n",
    "\n",
    "The dataset include multiple demographic attributes of customers of a fictional telco company that provides home phone and internet services to 7043 customers in California."
   ]
  },
  {
   "cell_type": "markdown",
   "metadata": {},
   "source": [
    "### Problem Definition\n",
    "\n",
    "The report contained in this coursework is focused on implementing ML algorithm to predict the *Churn Score* of a fictional telco company that provides home phone and internet services to 7043 customers in California. The dataset include multiple demographic attributes of customers that have left, stayed, or signed up for other services.\n",
    "\n",
    "Customer churn is the proportion of contractual customers or subscribers who leave a supplier during a given period. It may indicate of customer dissatisfaction, cheaper and/or better offers from the competition, more successful sales and/or marketing by the competition, or reasons having to do with the customer life cycle. Churn is a crucial metric for many businesses since it captures the *Satisfaction Score*, *Churn Score*, and *Customer Lifetime Value* (CLTV) index of the business."
   ]
  },
  {
   "cell_type": "markdown",
   "metadata": {},
   "source": [
    "###  Module Imports\n",
    "To execute the tasks contained in this report, we will need to import relevant Python modules. Since it is considered a good practice to import modules at the top of the notebook file, we shall do so here, rather than spread it throughout the whole file. This way a single look will inform of all the required modules to execute all code cells from one single cell"
   ]
  },
  {
   "cell_type": "code",
   "execution_count": 78,
   "metadata": {},
   "outputs": [],
   "source": [
    "# import python libraries\n",
    "import numpy as np\n",
    "import pandas as pd\n",
    "import matplotlib.pyplot as plt\n",
    "import seaborn as sns\n",
    "\n",
    "from sklearn.tree import  DecisionTreeClassifier\n",
    "from sklearn.ensemble import RandomForestClassifier\n",
    "from sklearn.preprocessing import LabelEncoder \n",
    "from sklearn.model_selection import GridSearchCV, train_test_split\n",
    "from sklearn.metrics import  classification_report"
   ]
  },
  {
   "cell_type": "markdown",
   "metadata": {},
   "source": [
    "### Data Ingestion\n",
    "Data ingestion is the process of moving data from a source into a landing area or an object store where it can be used for ad hoc queries and analytics. \n",
    "A simple data ingestion pipeline consumes data from a point of origin, cleans it up a bit, then writes it to a destination.\n",
    "\n",
    "In this section, we shall\n",
    "1. Ingest the dataset saved on file locally with [pandas](https://www.w3schools.com/python/pandas/pandas_csv.asp) *read_csv()* library method\n",
    "2. Evaluate the data structure\n",
    "3. Identify the target and dependent variables  "
   ]
  },
  {
   "cell_type": "code",
   "execution_count": 57,
   "metadata": {},
   "outputs": [],
   "source": [
    "# load the csv file from local storage\n",
    "# NB: change the source path if loading from another location\n",
    "df = pd.read_csv('C:/Users/emman/OneDrive - GLASGOW CALEDONIAN UNIVERSITY/Documents/GCU/Module - Software for Data Science/Assessments/CW 02/Datasets/Telco-Customer-Churn.csv')"
   ]
  },
  {
   "cell_type": "code",
   "execution_count": 58,
   "metadata": {},
   "outputs": [
    {
     "data": {
      "text/html": [
       "<div>\n",
       "<style scoped>\n",
       "    .dataframe tbody tr th:only-of-type {\n",
       "        vertical-align: middle;\n",
       "    }\n",
       "\n",
       "    .dataframe tbody tr th {\n",
       "        vertical-align: top;\n",
       "    }\n",
       "\n",
       "    .dataframe thead th {\n",
       "        text-align: right;\n",
       "    }\n",
       "</style>\n",
       "<table border=\"1\" class=\"dataframe\">\n",
       "  <thead>\n",
       "    <tr style=\"text-align: right;\">\n",
       "      <th></th>\n",
       "      <th>customerID</th>\n",
       "      <th>gender</th>\n",
       "      <th>SeniorCitizen</th>\n",
       "      <th>Partner</th>\n",
       "      <th>Dependents</th>\n",
       "      <th>tenure</th>\n",
       "      <th>PhoneService</th>\n",
       "      <th>MultipleLines</th>\n",
       "      <th>InternetService</th>\n",
       "      <th>OnlineSecurity</th>\n",
       "      <th>...</th>\n",
       "      <th>DeviceProtection</th>\n",
       "      <th>TechSupport</th>\n",
       "      <th>StreamingTV</th>\n",
       "      <th>StreamingMovies</th>\n",
       "      <th>Contract</th>\n",
       "      <th>PaperlessBilling</th>\n",
       "      <th>PaymentMethod</th>\n",
       "      <th>MonthlyCharges</th>\n",
       "      <th>TotalCharges</th>\n",
       "      <th>Churn</th>\n",
       "    </tr>\n",
       "  </thead>\n",
       "  <tbody>\n",
       "    <tr>\n",
       "      <th>0</th>\n",
       "      <td>7590-VHVEG</td>\n",
       "      <td>Female</td>\n",
       "      <td>0</td>\n",
       "      <td>Yes</td>\n",
       "      <td>No</td>\n",
       "      <td>1</td>\n",
       "      <td>No</td>\n",
       "      <td>No phone service</td>\n",
       "      <td>DSL</td>\n",
       "      <td>No</td>\n",
       "      <td>...</td>\n",
       "      <td>No</td>\n",
       "      <td>No</td>\n",
       "      <td>No</td>\n",
       "      <td>No</td>\n",
       "      <td>Month-to-month</td>\n",
       "      <td>Yes</td>\n",
       "      <td>Electronic check</td>\n",
       "      <td>29.85</td>\n",
       "      <td>29.85</td>\n",
       "      <td>No</td>\n",
       "    </tr>\n",
       "    <tr>\n",
       "      <th>1</th>\n",
       "      <td>5575-GNVDE</td>\n",
       "      <td>Male</td>\n",
       "      <td>0</td>\n",
       "      <td>No</td>\n",
       "      <td>No</td>\n",
       "      <td>34</td>\n",
       "      <td>Yes</td>\n",
       "      <td>No</td>\n",
       "      <td>DSL</td>\n",
       "      <td>Yes</td>\n",
       "      <td>...</td>\n",
       "      <td>Yes</td>\n",
       "      <td>No</td>\n",
       "      <td>No</td>\n",
       "      <td>No</td>\n",
       "      <td>One year</td>\n",
       "      <td>No</td>\n",
       "      <td>Mailed check</td>\n",
       "      <td>56.95</td>\n",
       "      <td>1889.5</td>\n",
       "      <td>No</td>\n",
       "    </tr>\n",
       "    <tr>\n",
       "      <th>2</th>\n",
       "      <td>3668-QPYBK</td>\n",
       "      <td>Male</td>\n",
       "      <td>0</td>\n",
       "      <td>No</td>\n",
       "      <td>No</td>\n",
       "      <td>2</td>\n",
       "      <td>Yes</td>\n",
       "      <td>No</td>\n",
       "      <td>DSL</td>\n",
       "      <td>Yes</td>\n",
       "      <td>...</td>\n",
       "      <td>No</td>\n",
       "      <td>No</td>\n",
       "      <td>No</td>\n",
       "      <td>No</td>\n",
       "      <td>Month-to-month</td>\n",
       "      <td>Yes</td>\n",
       "      <td>Mailed check</td>\n",
       "      <td>53.85</td>\n",
       "      <td>108.15</td>\n",
       "      <td>Yes</td>\n",
       "    </tr>\n",
       "    <tr>\n",
       "      <th>3</th>\n",
       "      <td>7795-CFOCW</td>\n",
       "      <td>Male</td>\n",
       "      <td>0</td>\n",
       "      <td>No</td>\n",
       "      <td>No</td>\n",
       "      <td>45</td>\n",
       "      <td>No</td>\n",
       "      <td>No phone service</td>\n",
       "      <td>DSL</td>\n",
       "      <td>Yes</td>\n",
       "      <td>...</td>\n",
       "      <td>Yes</td>\n",
       "      <td>Yes</td>\n",
       "      <td>No</td>\n",
       "      <td>No</td>\n",
       "      <td>One year</td>\n",
       "      <td>No</td>\n",
       "      <td>Bank transfer (automatic)</td>\n",
       "      <td>42.30</td>\n",
       "      <td>1840.75</td>\n",
       "      <td>No</td>\n",
       "    </tr>\n",
       "    <tr>\n",
       "      <th>4</th>\n",
       "      <td>9237-HQITU</td>\n",
       "      <td>Female</td>\n",
       "      <td>0</td>\n",
       "      <td>No</td>\n",
       "      <td>No</td>\n",
       "      <td>2</td>\n",
       "      <td>Yes</td>\n",
       "      <td>No</td>\n",
       "      <td>Fiber optic</td>\n",
       "      <td>No</td>\n",
       "      <td>...</td>\n",
       "      <td>No</td>\n",
       "      <td>No</td>\n",
       "      <td>No</td>\n",
       "      <td>No</td>\n",
       "      <td>Month-to-month</td>\n",
       "      <td>Yes</td>\n",
       "      <td>Electronic check</td>\n",
       "      <td>70.70</td>\n",
       "      <td>151.65</td>\n",
       "      <td>Yes</td>\n",
       "    </tr>\n",
       "  </tbody>\n",
       "</table>\n",
       "<p>5 rows × 21 columns</p>\n",
       "</div>"
      ],
      "text/plain": [
       "   customerID  gender  SeniorCitizen Partner Dependents  tenure PhoneService  \\\n",
       "0  7590-VHVEG  Female              0     Yes         No       1           No   \n",
       "1  5575-GNVDE    Male              0      No         No      34          Yes   \n",
       "2  3668-QPYBK    Male              0      No         No       2          Yes   \n",
       "3  7795-CFOCW    Male              0      No         No      45           No   \n",
       "4  9237-HQITU  Female              0      No         No       2          Yes   \n",
       "\n",
       "      MultipleLines InternetService OnlineSecurity  ... DeviceProtection  \\\n",
       "0  No phone service             DSL             No  ...               No   \n",
       "1                No             DSL            Yes  ...              Yes   \n",
       "2                No             DSL            Yes  ...               No   \n",
       "3  No phone service             DSL            Yes  ...              Yes   \n",
       "4                No     Fiber optic             No  ...               No   \n",
       "\n",
       "  TechSupport StreamingTV StreamingMovies        Contract PaperlessBilling  \\\n",
       "0          No          No              No  Month-to-month              Yes   \n",
       "1          No          No              No        One year               No   \n",
       "2          No          No              No  Month-to-month              Yes   \n",
       "3         Yes          No              No        One year               No   \n",
       "4          No          No              No  Month-to-month              Yes   \n",
       "\n",
       "               PaymentMethod MonthlyCharges  TotalCharges Churn  \n",
       "0           Electronic check          29.85         29.85    No  \n",
       "1               Mailed check          56.95        1889.5    No  \n",
       "2               Mailed check          53.85        108.15   Yes  \n",
       "3  Bank transfer (automatic)          42.30       1840.75    No  \n",
       "4           Electronic check          70.70        151.65   Yes  \n",
       "\n",
       "[5 rows x 21 columns]"
      ]
     },
     "execution_count": 58,
     "metadata": {},
     "output_type": "execute_result"
    }
   ],
   "source": [
    "# preview the data entries\n",
    "df.head()"
   ]
  },
  {
   "cell_type": "code",
   "execution_count": 59,
   "metadata": {},
   "outputs": [
    {
     "name": "stdout",
     "output_type": "stream",
     "text": [
      "<class 'pandas.core.frame.DataFrame'>\n",
      "RangeIndex: 7043 entries, 0 to 7042\n",
      "Data columns (total 21 columns):\n",
      " #   Column            Non-Null Count  Dtype  \n",
      "---  ------            --------------  -----  \n",
      " 0   customerID        7043 non-null   object \n",
      " 1   gender            7043 non-null   object \n",
      " 2   SeniorCitizen     7043 non-null   int64  \n",
      " 3   Partner           7043 non-null   object \n",
      " 4   Dependents        7043 non-null   object \n",
      " 5   tenure            7043 non-null   int64  \n",
      " 6   PhoneService      7043 non-null   object \n",
      " 7   MultipleLines     7043 non-null   object \n",
      " 8   InternetService   7043 non-null   object \n",
      " 9   OnlineSecurity    7043 non-null   object \n",
      " 10  OnlineBackup      7043 non-null   object \n",
      " 11  DeviceProtection  7043 non-null   object \n",
      " 12  TechSupport       7043 non-null   object \n",
      " 13  StreamingTV       7043 non-null   object \n",
      " 14  StreamingMovies   7043 non-null   object \n",
      " 15  Contract          7043 non-null   object \n",
      " 16  PaperlessBilling  7043 non-null   object \n",
      " 17  PaymentMethod     7043 non-null   object \n",
      " 18  MonthlyCharges    7043 non-null   float64\n",
      " 19  TotalCharges      7043 non-null   object \n",
      " 20  Churn             7043 non-null   object \n",
      "dtypes: float64(1), int64(2), object(18)\n",
      "memory usage: 1.1+ MB\n"
     ]
    }
   ],
   "source": [
    "# preview the data structure\n",
    "df.info()"
   ]
  },
  {
   "cell_type": "markdown",
   "metadata": {},
   "source": [
    "# 3. Data Preparation & Wrangling\n",
    "\n",
    "A critical step in data preparation is data cleaning. This step typically involves fixing bad data in the dataset.\n",
    "\n",
    "Bad data could be represented in the following forms; (1) missing or empty cells (2) data in the wrong format (3) wrong or misplaced data, and (4) duplicate records\n",
    "\n",
    "An investigation into the description of the data stucture above reveals the following;\n",
    "- There are 7043 observations in the dataset\n",
    "- It's a dense dataset with no missing/null entries. (more investigation on this later)\n",
    "- Most of the features are categorical object types, including `TotalCharges`. (more investigation on this later) \n",
    "\n",
    "First, we will deal with the `TotalCharges` column expressed as an *object* dtype. Clearly, entries in the `TotalCharges` column should expressed as *float*, not *object* dtypes. This will allow us to easily segregate the major numeric and categorical feature types."
   ]
  },
  {
   "cell_type": "code",
   "execution_count": 60,
   "metadata": {},
   "outputs": [
    {
     "data": {
      "text/plain": [
       "0      29.85\n",
       "1    1889.50\n",
       "2     108.15\n",
       "3    1840.75\n",
       "4     151.65\n",
       "Name: TotalCharges, dtype: float64"
      ]
     },
     "execution_count": 60,
     "metadata": {},
     "output_type": "execute_result"
    }
   ],
   "source": [
    "# convert 'TotalCharges' from object to float datatype\n",
    "df['TotalCharges'] = pd.to_numeric(df['TotalCharges'], errors='coerce').astype(float)\n",
    "\n",
    "# preview the data (especially the datatype)\n",
    "df['TotalCharges'].head()"
   ]
  },
  {
   "cell_type": "code",
   "execution_count": 61,
   "metadata": {},
   "outputs": [
    {
     "data": {
      "text/plain": [
       "11"
      ]
     },
     "execution_count": 61,
     "metadata": {},
     "output_type": "execute_result"
    }
   ],
   "source": [
    "# check to confirm that all entries were converted\n",
    "df['TotalCharges'].isna().sum()"
   ]
  },
  {
   "cell_type": "markdown",
   "metadata": {},
   "source": [
    "Since, the entries that were not converted are few (just entries in 11 rows), we would remove the records containing these entries"
   ]
  },
  {
   "cell_type": "code",
   "execution_count": 62,
   "metadata": {},
   "outputs": [
    {
     "name": "stdout",
     "output_type": "stream",
     "text": [
      "<class 'pandas.core.frame.DataFrame'>\n",
      "Index: 7032 entries, 0 to 7042\n",
      "Data columns (total 21 columns):\n",
      " #   Column            Non-Null Count  Dtype  \n",
      "---  ------            --------------  -----  \n",
      " 0   customerID        7032 non-null   object \n",
      " 1   gender            7032 non-null   object \n",
      " 2   SeniorCitizen     7032 non-null   int64  \n",
      " 3   Partner           7032 non-null   object \n",
      " 4   Dependents        7032 non-null   object \n",
      " 5   tenure            7032 non-null   int64  \n",
      " 6   PhoneService      7032 non-null   object \n",
      " 7   MultipleLines     7032 non-null   object \n",
      " 8   InternetService   7032 non-null   object \n",
      " 9   OnlineSecurity    7032 non-null   object \n",
      " 10  OnlineBackup      7032 non-null   object \n",
      " 11  DeviceProtection  7032 non-null   object \n",
      " 12  TechSupport       7032 non-null   object \n",
      " 13  StreamingTV       7032 non-null   object \n",
      " 14  StreamingMovies   7032 non-null   object \n",
      " 15  Contract          7032 non-null   object \n",
      " 16  PaperlessBilling  7032 non-null   object \n",
      " 17  PaymentMethod     7032 non-null   object \n",
      " 18  MonthlyCharges    7032 non-null   float64\n",
      " 19  TotalCharges      7032 non-null   float64\n",
      " 20  Churn             7032 non-null   object \n",
      "dtypes: float64(2), int64(2), object(17)\n",
      "memory usage: 1.2+ MB\n"
     ]
    }
   ],
   "source": [
    "# remove records containing missing entries\n",
    "df.dropna(how='any', inplace=True)\n",
    "\n",
    "# check to confirm no entries are missing\n",
    "df.info()"
   ]
  },
  {
   "cell_type": "markdown",
   "metadata": {},
   "source": [
    "Next, we investigate the observations to see if all the records are unique"
   ]
  },
  {
   "cell_type": "code",
   "execution_count": 63,
   "metadata": {},
   "outputs": [
    {
     "data": {
      "text/plain": [
       "True"
      ]
     },
     "execution_count": 63,
     "metadata": {},
     "output_type": "execute_result"
    }
   ],
   "source": [
    "# check for customer unquiness\n",
    "df['customerID'].is_unique"
   ]
  },
  {
   "cell_type": "markdown",
   "metadata": {},
   "source": [
    "To make things simple, we will drop the `customerID` column since all the customer observations are unique. "
   ]
  },
  {
   "cell_type": "code",
   "execution_count": 64,
   "metadata": {},
   "outputs": [
    {
     "data": {
      "text/html": [
       "<div>\n",
       "<style scoped>\n",
       "    .dataframe tbody tr th:only-of-type {\n",
       "        vertical-align: middle;\n",
       "    }\n",
       "\n",
       "    .dataframe tbody tr th {\n",
       "        vertical-align: top;\n",
       "    }\n",
       "\n",
       "    .dataframe thead th {\n",
       "        text-align: right;\n",
       "    }\n",
       "</style>\n",
       "<table border=\"1\" class=\"dataframe\">\n",
       "  <thead>\n",
       "    <tr style=\"text-align: right;\">\n",
       "      <th></th>\n",
       "      <th>gender</th>\n",
       "      <th>SeniorCitizen</th>\n",
       "      <th>Partner</th>\n",
       "      <th>Dependents</th>\n",
       "      <th>tenure</th>\n",
       "      <th>PhoneService</th>\n",
       "      <th>MultipleLines</th>\n",
       "      <th>InternetService</th>\n",
       "      <th>OnlineSecurity</th>\n",
       "      <th>OnlineBackup</th>\n",
       "      <th>DeviceProtection</th>\n",
       "      <th>TechSupport</th>\n",
       "      <th>StreamingTV</th>\n",
       "      <th>StreamingMovies</th>\n",
       "      <th>Contract</th>\n",
       "      <th>PaperlessBilling</th>\n",
       "      <th>PaymentMethod</th>\n",
       "      <th>MonthlyCharges</th>\n",
       "      <th>TotalCharges</th>\n",
       "      <th>Churn</th>\n",
       "    </tr>\n",
       "  </thead>\n",
       "  <tbody>\n",
       "    <tr>\n",
       "      <th>0</th>\n",
       "      <td>Female</td>\n",
       "      <td>0</td>\n",
       "      <td>Yes</td>\n",
       "      <td>No</td>\n",
       "      <td>1</td>\n",
       "      <td>No</td>\n",
       "      <td>No phone service</td>\n",
       "      <td>DSL</td>\n",
       "      <td>No</td>\n",
       "      <td>Yes</td>\n",
       "      <td>No</td>\n",
       "      <td>No</td>\n",
       "      <td>No</td>\n",
       "      <td>No</td>\n",
       "      <td>Month-to-month</td>\n",
       "      <td>Yes</td>\n",
       "      <td>Electronic check</td>\n",
       "      <td>29.85</td>\n",
       "      <td>29.85</td>\n",
       "      <td>No</td>\n",
       "    </tr>\n",
       "    <tr>\n",
       "      <th>1</th>\n",
       "      <td>Male</td>\n",
       "      <td>0</td>\n",
       "      <td>No</td>\n",
       "      <td>No</td>\n",
       "      <td>34</td>\n",
       "      <td>Yes</td>\n",
       "      <td>No</td>\n",
       "      <td>DSL</td>\n",
       "      <td>Yes</td>\n",
       "      <td>No</td>\n",
       "      <td>Yes</td>\n",
       "      <td>No</td>\n",
       "      <td>No</td>\n",
       "      <td>No</td>\n",
       "      <td>One year</td>\n",
       "      <td>No</td>\n",
       "      <td>Mailed check</td>\n",
       "      <td>56.95</td>\n",
       "      <td>1889.50</td>\n",
       "      <td>No</td>\n",
       "    </tr>\n",
       "    <tr>\n",
       "      <th>2</th>\n",
       "      <td>Male</td>\n",
       "      <td>0</td>\n",
       "      <td>No</td>\n",
       "      <td>No</td>\n",
       "      <td>2</td>\n",
       "      <td>Yes</td>\n",
       "      <td>No</td>\n",
       "      <td>DSL</td>\n",
       "      <td>Yes</td>\n",
       "      <td>Yes</td>\n",
       "      <td>No</td>\n",
       "      <td>No</td>\n",
       "      <td>No</td>\n",
       "      <td>No</td>\n",
       "      <td>Month-to-month</td>\n",
       "      <td>Yes</td>\n",
       "      <td>Mailed check</td>\n",
       "      <td>53.85</td>\n",
       "      <td>108.15</td>\n",
       "      <td>Yes</td>\n",
       "    </tr>\n",
       "    <tr>\n",
       "      <th>3</th>\n",
       "      <td>Male</td>\n",
       "      <td>0</td>\n",
       "      <td>No</td>\n",
       "      <td>No</td>\n",
       "      <td>45</td>\n",
       "      <td>No</td>\n",
       "      <td>No phone service</td>\n",
       "      <td>DSL</td>\n",
       "      <td>Yes</td>\n",
       "      <td>No</td>\n",
       "      <td>Yes</td>\n",
       "      <td>Yes</td>\n",
       "      <td>No</td>\n",
       "      <td>No</td>\n",
       "      <td>One year</td>\n",
       "      <td>No</td>\n",
       "      <td>Bank transfer (automatic)</td>\n",
       "      <td>42.30</td>\n",
       "      <td>1840.75</td>\n",
       "      <td>No</td>\n",
       "    </tr>\n",
       "    <tr>\n",
       "      <th>4</th>\n",
       "      <td>Female</td>\n",
       "      <td>0</td>\n",
       "      <td>No</td>\n",
       "      <td>No</td>\n",
       "      <td>2</td>\n",
       "      <td>Yes</td>\n",
       "      <td>No</td>\n",
       "      <td>Fiber optic</td>\n",
       "      <td>No</td>\n",
       "      <td>No</td>\n",
       "      <td>No</td>\n",
       "      <td>No</td>\n",
       "      <td>No</td>\n",
       "      <td>No</td>\n",
       "      <td>Month-to-month</td>\n",
       "      <td>Yes</td>\n",
       "      <td>Electronic check</td>\n",
       "      <td>70.70</td>\n",
       "      <td>151.65</td>\n",
       "      <td>Yes</td>\n",
       "    </tr>\n",
       "  </tbody>\n",
       "</table>\n",
       "</div>"
      ],
      "text/plain": [
       "   gender  SeniorCitizen Partner Dependents  tenure PhoneService  \\\n",
       "0  Female              0     Yes         No       1           No   \n",
       "1    Male              0      No         No      34          Yes   \n",
       "2    Male              0      No         No       2          Yes   \n",
       "3    Male              0      No         No      45           No   \n",
       "4  Female              0      No         No       2          Yes   \n",
       "\n",
       "      MultipleLines InternetService OnlineSecurity OnlineBackup  \\\n",
       "0  No phone service             DSL             No          Yes   \n",
       "1                No             DSL            Yes           No   \n",
       "2                No             DSL            Yes          Yes   \n",
       "3  No phone service             DSL            Yes           No   \n",
       "4                No     Fiber optic             No           No   \n",
       "\n",
       "  DeviceProtection TechSupport StreamingTV StreamingMovies        Contract  \\\n",
       "0               No          No          No              No  Month-to-month   \n",
       "1              Yes          No          No              No        One year   \n",
       "2               No          No          No              No  Month-to-month   \n",
       "3              Yes         Yes          No              No        One year   \n",
       "4               No          No          No              No  Month-to-month   \n",
       "\n",
       "  PaperlessBilling              PaymentMethod  MonthlyCharges  TotalCharges  \\\n",
       "0              Yes           Electronic check           29.85         29.85   \n",
       "1               No               Mailed check           56.95       1889.50   \n",
       "2              Yes               Mailed check           53.85        108.15   \n",
       "3               No  Bank transfer (automatic)           42.30       1840.75   \n",
       "4              Yes           Electronic check           70.70        151.65   \n",
       "\n",
       "  Churn  \n",
       "0    No  \n",
       "1    No  \n",
       "2   Yes  \n",
       "3    No  \n",
       "4   Yes  "
      ]
     },
     "execution_count": 64,
     "metadata": {},
     "output_type": "execute_result"
    }
   ],
   "source": [
    "# remove irrelevant column\n",
    "df = df.drop(['customerID'], axis=1)\n",
    "\n",
    "# preview the data\n",
    "df.head()    "
   ]
  },
  {
   "cell_type": "markdown",
   "metadata": {},
   "source": [
    "Next, we will check for, and handle duplicate records (if any)"
   ]
  },
  {
   "cell_type": "code",
   "execution_count": 65,
   "metadata": {},
   "outputs": [
    {
     "data": {
      "text/plain": [
       "22"
      ]
     },
     "execution_count": 65,
     "metadata": {},
     "output_type": "execute_result"
    }
   ],
   "source": [
    "# check for duplicate records\n",
    "df.duplicated().sum()"
   ]
  },
  {
   "cell_type": "markdown",
   "metadata": {},
   "source": [
    "We have 22 duplicate record, so we wil go ahead and delete them\n",
    "\n",
    "Finally, we will check the count to confirm that all the duplicates were deleted"
   ]
  },
  {
   "cell_type": "code",
   "execution_count": 66,
   "metadata": {},
   "outputs": [
    {
     "data": {
      "text/plain": [
       "0"
      ]
     },
     "execution_count": 66,
     "metadata": {},
     "output_type": "execute_result"
    }
   ],
   "source": [
    "# remove the duplicate records\n",
    "df.drop_duplicates(inplace=True)\n",
    "\n",
    "# check again to confirm no duplicate record exits\n",
    "df.duplicated().sum()"
   ]
  },
  {
   "cell_type": "markdown",
   "metadata": {},
   "source": [
    "Earlier, we performed an investigation into the structure of the data and observed that most of the features are categorical object types that cannot be processing by a machine learning model. Hence, we would need to carry out an extra preprocessing step to convert them into numeric equivalents.\n",
    "\n",
    "We will illustrate this step  \n",
    "- manually, using [pandas](https://pandas.pydata.org/docs/dev/reference/api/pandas.DataFrame.map.html) *map()* method\n",
    "- automatically, using [sklearn](http://scikit-learn.org/stable/modules/generated/sklearn.preprocessing.LabelEncoder.html) *LabelEncoder()* method"
   ]
  },
  {
   "cell_type": "code",
   "execution_count": 67,
   "metadata": {},
   "outputs": [
    {
     "name": "stdout",
     "output_type": "stream",
     "text": [
      "gender: ['Female' 'Male']\n",
      "Partner: ['Yes' 'No']\n",
      "Dependents: ['No' 'Yes']\n",
      "PhoneService: ['No' 'Yes']\n",
      "MultipleLines: ['No phone service' 'No' 'Yes']\n",
      "InternetService: ['DSL' 'Fiber optic' 'No']\n",
      "OnlineSecurity: ['No' 'Yes' 'No internet service']\n",
      "OnlineBackup: ['Yes' 'No' 'No internet service']\n",
      "DeviceProtection: ['No' 'Yes' 'No internet service']\n",
      "TechSupport: ['No' 'Yes' 'No internet service']\n",
      "StreamingTV: ['No' 'Yes' 'No internet service']\n",
      "StreamingMovies: ['No' 'Yes' 'No internet service']\n",
      "Contract: ['Month-to-month' 'One year' 'Two year']\n",
      "PaperlessBilling: ['Yes' 'No']\n",
      "PaymentMethod: ['Electronic check' 'Mailed check' 'Bank transfer (automatic)'\n",
      " 'Credit card (automatic)']\n",
      "Churn: ['No' 'Yes']\n"
     ]
    }
   ],
   "source": [
    "# get all the classes of each categorical feature\n",
    "for f in df.columns.values:\n",
    "    if df[f].dtype == object:\n",
    "        print(\"%s: %s\" % (f, df[f].unique())) "
   ]
  },
  {
   "cell_type": "markdown",
   "metadata": {},
   "source": [
    "#### Convert categorical features to numeric data\n",
    "\n",
    "We can do this in two (2) ways.\n",
    "(1) manual mapping with raw python code\n",
    "(2) auto-mapping with python library (like *sklearn*)\n",
    "\n",
    "However, only code for one of the methods below should be ran, as they both achieves the same result"
   ]
  },
  {
   "cell_type": "markdown",
   "metadata": {},
   "source": [
    "- Method 1 - manual convertion with *map()* "
   ]
  },
  {
   "cell_type": "code",
   "execution_count": 68,
   "metadata": {},
   "outputs": [
    {
     "data": {
      "text/html": [
       "<div>\n",
       "<style scoped>\n",
       "    .dataframe tbody tr th:only-of-type {\n",
       "        vertical-align: middle;\n",
       "    }\n",
       "\n",
       "    .dataframe tbody tr th {\n",
       "        vertical-align: top;\n",
       "    }\n",
       "\n",
       "    .dataframe thead th {\n",
       "        text-align: right;\n",
       "    }\n",
       "</style>\n",
       "<table border=\"1\" class=\"dataframe\">\n",
       "  <thead>\n",
       "    <tr style=\"text-align: right;\">\n",
       "      <th></th>\n",
       "      <th>gender</th>\n",
       "      <th>SeniorCitizen</th>\n",
       "      <th>Partner</th>\n",
       "      <th>Dependents</th>\n",
       "      <th>tenure</th>\n",
       "      <th>PhoneService</th>\n",
       "      <th>MultipleLines</th>\n",
       "      <th>InternetService</th>\n",
       "      <th>OnlineSecurity</th>\n",
       "      <th>OnlineBackup</th>\n",
       "      <th>DeviceProtection</th>\n",
       "      <th>TechSupport</th>\n",
       "      <th>StreamingTV</th>\n",
       "      <th>StreamingMovies</th>\n",
       "      <th>Contract</th>\n",
       "      <th>PaperlessBilling</th>\n",
       "      <th>PaymentMethod</th>\n",
       "      <th>MonthlyCharges</th>\n",
       "      <th>TotalCharges</th>\n",
       "      <th>Churn</th>\n",
       "    </tr>\n",
       "  </thead>\n",
       "  <tbody>\n",
       "    <tr>\n",
       "      <th>0</th>\n",
       "      <td>1</td>\n",
       "      <td>0</td>\n",
       "      <td>1</td>\n",
       "      <td>0</td>\n",
       "      <td>1</td>\n",
       "      <td>0</td>\n",
       "      <td>0</td>\n",
       "      <td>2</td>\n",
       "      <td>1</td>\n",
       "      <td>2</td>\n",
       "      <td>1</td>\n",
       "      <td>1</td>\n",
       "      <td>1</td>\n",
       "      <td>1</td>\n",
       "      <td>0</td>\n",
       "      <td>1</td>\n",
       "      <td>0</td>\n",
       "      <td>29.85</td>\n",
       "      <td>29.85</td>\n",
       "      <td>0</td>\n",
       "    </tr>\n",
       "    <tr>\n",
       "      <th>1</th>\n",
       "      <td>0</td>\n",
       "      <td>0</td>\n",
       "      <td>0</td>\n",
       "      <td>0</td>\n",
       "      <td>34</td>\n",
       "      <td>1</td>\n",
       "      <td>1</td>\n",
       "      <td>2</td>\n",
       "      <td>2</td>\n",
       "      <td>1</td>\n",
       "      <td>2</td>\n",
       "      <td>1</td>\n",
       "      <td>1</td>\n",
       "      <td>1</td>\n",
       "      <td>1</td>\n",
       "      <td>0</td>\n",
       "      <td>1</td>\n",
       "      <td>56.95</td>\n",
       "      <td>1889.50</td>\n",
       "      <td>0</td>\n",
       "    </tr>\n",
       "    <tr>\n",
       "      <th>2</th>\n",
       "      <td>0</td>\n",
       "      <td>0</td>\n",
       "      <td>0</td>\n",
       "      <td>0</td>\n",
       "      <td>2</td>\n",
       "      <td>1</td>\n",
       "      <td>1</td>\n",
       "      <td>2</td>\n",
       "      <td>2</td>\n",
       "      <td>2</td>\n",
       "      <td>1</td>\n",
       "      <td>1</td>\n",
       "      <td>1</td>\n",
       "      <td>1</td>\n",
       "      <td>0</td>\n",
       "      <td>1</td>\n",
       "      <td>1</td>\n",
       "      <td>53.85</td>\n",
       "      <td>108.15</td>\n",
       "      <td>1</td>\n",
       "    </tr>\n",
       "    <tr>\n",
       "      <th>3</th>\n",
       "      <td>0</td>\n",
       "      <td>0</td>\n",
       "      <td>0</td>\n",
       "      <td>0</td>\n",
       "      <td>45</td>\n",
       "      <td>0</td>\n",
       "      <td>0</td>\n",
       "      <td>2</td>\n",
       "      <td>2</td>\n",
       "      <td>1</td>\n",
       "      <td>2</td>\n",
       "      <td>2</td>\n",
       "      <td>1</td>\n",
       "      <td>1</td>\n",
       "      <td>1</td>\n",
       "      <td>0</td>\n",
       "      <td>2</td>\n",
       "      <td>42.30</td>\n",
       "      <td>1840.75</td>\n",
       "      <td>0</td>\n",
       "    </tr>\n",
       "    <tr>\n",
       "      <th>4</th>\n",
       "      <td>1</td>\n",
       "      <td>0</td>\n",
       "      <td>0</td>\n",
       "      <td>0</td>\n",
       "      <td>2</td>\n",
       "      <td>1</td>\n",
       "      <td>1</td>\n",
       "      <td>1</td>\n",
       "      <td>1</td>\n",
       "      <td>1</td>\n",
       "      <td>1</td>\n",
       "      <td>1</td>\n",
       "      <td>1</td>\n",
       "      <td>1</td>\n",
       "      <td>0</td>\n",
       "      <td>1</td>\n",
       "      <td>0</td>\n",
       "      <td>70.70</td>\n",
       "      <td>151.65</td>\n",
       "      <td>1</td>\n",
       "    </tr>\n",
       "    <tr>\n",
       "      <th>5</th>\n",
       "      <td>1</td>\n",
       "      <td>0</td>\n",
       "      <td>0</td>\n",
       "      <td>0</td>\n",
       "      <td>8</td>\n",
       "      <td>1</td>\n",
       "      <td>2</td>\n",
       "      <td>1</td>\n",
       "      <td>1</td>\n",
       "      <td>1</td>\n",
       "      <td>2</td>\n",
       "      <td>1</td>\n",
       "      <td>2</td>\n",
       "      <td>2</td>\n",
       "      <td>0</td>\n",
       "      <td>1</td>\n",
       "      <td>0</td>\n",
       "      <td>99.65</td>\n",
       "      <td>820.50</td>\n",
       "      <td>1</td>\n",
       "    </tr>\n",
       "    <tr>\n",
       "      <th>6</th>\n",
       "      <td>0</td>\n",
       "      <td>0</td>\n",
       "      <td>0</td>\n",
       "      <td>1</td>\n",
       "      <td>22</td>\n",
       "      <td>1</td>\n",
       "      <td>2</td>\n",
       "      <td>1</td>\n",
       "      <td>1</td>\n",
       "      <td>2</td>\n",
       "      <td>1</td>\n",
       "      <td>1</td>\n",
       "      <td>2</td>\n",
       "      <td>1</td>\n",
       "      <td>0</td>\n",
       "      <td>1</td>\n",
       "      <td>3</td>\n",
       "      <td>89.10</td>\n",
       "      <td>1949.40</td>\n",
       "      <td>0</td>\n",
       "    </tr>\n",
       "    <tr>\n",
       "      <th>7</th>\n",
       "      <td>1</td>\n",
       "      <td>0</td>\n",
       "      <td>0</td>\n",
       "      <td>0</td>\n",
       "      <td>10</td>\n",
       "      <td>0</td>\n",
       "      <td>0</td>\n",
       "      <td>2</td>\n",
       "      <td>2</td>\n",
       "      <td>1</td>\n",
       "      <td>1</td>\n",
       "      <td>1</td>\n",
       "      <td>1</td>\n",
       "      <td>1</td>\n",
       "      <td>0</td>\n",
       "      <td>0</td>\n",
       "      <td>1</td>\n",
       "      <td>29.75</td>\n",
       "      <td>301.90</td>\n",
       "      <td>0</td>\n",
       "    </tr>\n",
       "    <tr>\n",
       "      <th>8</th>\n",
       "      <td>1</td>\n",
       "      <td>0</td>\n",
       "      <td>1</td>\n",
       "      <td>0</td>\n",
       "      <td>28</td>\n",
       "      <td>1</td>\n",
       "      <td>2</td>\n",
       "      <td>1</td>\n",
       "      <td>1</td>\n",
       "      <td>1</td>\n",
       "      <td>2</td>\n",
       "      <td>2</td>\n",
       "      <td>2</td>\n",
       "      <td>2</td>\n",
       "      <td>0</td>\n",
       "      <td>1</td>\n",
       "      <td>0</td>\n",
       "      <td>104.80</td>\n",
       "      <td>3046.05</td>\n",
       "      <td>1</td>\n",
       "    </tr>\n",
       "    <tr>\n",
       "      <th>9</th>\n",
       "      <td>0</td>\n",
       "      <td>0</td>\n",
       "      <td>0</td>\n",
       "      <td>1</td>\n",
       "      <td>62</td>\n",
       "      <td>1</td>\n",
       "      <td>1</td>\n",
       "      <td>2</td>\n",
       "      <td>2</td>\n",
       "      <td>2</td>\n",
       "      <td>1</td>\n",
       "      <td>1</td>\n",
       "      <td>1</td>\n",
       "      <td>1</td>\n",
       "      <td>1</td>\n",
       "      <td>0</td>\n",
       "      <td>2</td>\n",
       "      <td>56.15</td>\n",
       "      <td>3487.95</td>\n",
       "      <td>0</td>\n",
       "    </tr>\n",
       "  </tbody>\n",
       "</table>\n",
       "</div>"
      ],
      "text/plain": [
       "   gender  SeniorCitizen  Partner  Dependents  tenure  PhoneService  \\\n",
       "0       1              0        1           0       1             0   \n",
       "1       0              0        0           0      34             1   \n",
       "2       0              0        0           0       2             1   \n",
       "3       0              0        0           0      45             0   \n",
       "4       1              0        0           0       2             1   \n",
       "5       1              0        0           0       8             1   \n",
       "6       0              0        0           1      22             1   \n",
       "7       1              0        0           0      10             0   \n",
       "8       1              0        1           0      28             1   \n",
       "9       0              0        0           1      62             1   \n",
       "\n",
       "   MultipleLines  InternetService  OnlineSecurity  OnlineBackup  \\\n",
       "0              0                2               1             2   \n",
       "1              1                2               2             1   \n",
       "2              1                2               2             2   \n",
       "3              0                2               2             1   \n",
       "4              1                1               1             1   \n",
       "5              2                1               1             1   \n",
       "6              2                1               1             2   \n",
       "7              0                2               2             1   \n",
       "8              2                1               1             1   \n",
       "9              1                2               2             2   \n",
       "\n",
       "   DeviceProtection  TechSupport  StreamingTV  StreamingMovies  Contract  \\\n",
       "0                 1            1            1                1         0   \n",
       "1                 2            1            1                1         1   \n",
       "2                 1            1            1                1         0   \n",
       "3                 2            2            1                1         1   \n",
       "4                 1            1            1                1         0   \n",
       "5                 2            1            2                2         0   \n",
       "6                 1            1            2                1         0   \n",
       "7                 1            1            1                1         0   \n",
       "8                 2            2            2                2         0   \n",
       "9                 1            1            1                1         1   \n",
       "\n",
       "   PaperlessBilling  PaymentMethod  MonthlyCharges  TotalCharges  Churn  \n",
       "0                 1              0           29.85         29.85      0  \n",
       "1                 0              1           56.95       1889.50      0  \n",
       "2                 1              1           53.85        108.15      1  \n",
       "3                 0              2           42.30       1840.75      0  \n",
       "4                 1              0           70.70        151.65      1  \n",
       "5                 1              0           99.65        820.50      1  \n",
       "6                 1              3           89.10       1949.40      0  \n",
       "7                 0              1           29.75        301.90      0  \n",
       "8                 1              0          104.80       3046.05      1  \n",
       "9                 0              2           56.15       3487.95      0  "
      ]
     },
     "execution_count": 68,
     "metadata": {},
     "output_type": "execute_result"
    }
   ],
   "source": [
    "# create a mapping for categorical features\n",
    "male_female = {'Male': 0, 'Female': 1}\n",
    "no_yes = {'No': 0, 'Yes': 1}\n",
    "internet_service = {'No': 0, 'DSL': 2, 'Fiber optic': 1}\n",
    "no_phone_no_yes = {'No phone service': 0, 'No': 1, 'Yes': 2}\n",
    "no_internet_no_yes = {'No internet service': 0, 'No': 1, 'Yes': 2}\n",
    "contract_type = {'Month-to-month': 0, 'One year': 1, 'Two year': 2}\n",
    "payment_method = {'Electronic check': 0, 'Mailed check': 1, 'Bank transfer (automatic)': 2, 'Credit card (automatic)': 3}\n",
    "\n",
    "# map non-numeric ordinal features to their numeric equivalents\n",
    "df['gender'] = df['gender'].map(male_female)\n",
    "df['Partner'] = df['Partner'].map(no_yes)\n",
    "df['Dependents'] = df['Dependents'].map(no_yes)\n",
    "df['PhoneService'] = df['PhoneService'].map(no_yes)\n",
    "df['MultipleLines'] = df['MultipleLines'].map(no_phone_no_yes)\n",
    "df['InternetService'] = df['InternetService'].map(internet_service)\n",
    "df['OnlineSecurity'] = df['OnlineSecurity'].map(no_internet_no_yes)\n",
    "df['OnlineBackup'] = df['OnlineBackup'].map(no_internet_no_yes)\n",
    "df['DeviceProtection'] = df['DeviceProtection'].map(no_internet_no_yes)\n",
    "df['TechSupport'] = df['TechSupport'].map(no_internet_no_yes)\n",
    "df['StreamingTV'] = df['StreamingTV'].map(no_internet_no_yes)\n",
    "df['StreamingMovies'] = df['StreamingMovies'].map(no_internet_no_yes)\n",
    "df['Contract'] = df['Contract'].map(contract_type)\n",
    "df['PaperlessBilling'] = df['PaperlessBilling'].map(no_yes)\n",
    "df['PaymentMethod'] = df['PaymentMethod'].map(payment_method)\n",
    "df['Churn'] = df['Churn'].map(no_yes)\n",
    "\n",
    "# preview the data\n",
    "df.head(10)"
   ]
  },
  {
   "cell_type": "markdown",
   "metadata": {},
   "source": [
    "- Method 2 - automatic convertion with *LabelEncoder()* "
   ]
  },
  {
   "cell_type": "code",
   "execution_count": 12,
   "metadata": {},
   "outputs": [
    {
     "data": {
      "text/html": [
       "<div>\n",
       "<style scoped>\n",
       "    .dataframe tbody tr th:only-of-type {\n",
       "        vertical-align: middle;\n",
       "    }\n",
       "\n",
       "    .dataframe tbody tr th {\n",
       "        vertical-align: top;\n",
       "    }\n",
       "\n",
       "    .dataframe thead th {\n",
       "        text-align: right;\n",
       "    }\n",
       "</style>\n",
       "<table border=\"1\" class=\"dataframe\">\n",
       "  <thead>\n",
       "    <tr style=\"text-align: right;\">\n",
       "      <th></th>\n",
       "      <th>SeniorCitizen</th>\n",
       "      <th>tenure</th>\n",
       "      <th>MonthlyCharges</th>\n",
       "      <th>TotalCharges</th>\n",
       "      <th>gender</th>\n",
       "      <th>Partner</th>\n",
       "      <th>Dependents</th>\n",
       "      <th>PhoneService</th>\n",
       "      <th>MultipleLines</th>\n",
       "      <th>InternetService</th>\n",
       "      <th>OnlineSecurity</th>\n",
       "      <th>OnlineBackup</th>\n",
       "      <th>DeviceProtection</th>\n",
       "      <th>TechSupport</th>\n",
       "      <th>StreamingTV</th>\n",
       "      <th>StreamingMovies</th>\n",
       "      <th>Contract</th>\n",
       "      <th>PaperlessBilling</th>\n",
       "      <th>PaymentMethod</th>\n",
       "      <th>Churn</th>\n",
       "    </tr>\n",
       "  </thead>\n",
       "  <tbody>\n",
       "    <tr>\n",
       "      <th>0</th>\n",
       "      <td>0</td>\n",
       "      <td>1</td>\n",
       "      <td>29.85</td>\n",
       "      <td>29.85</td>\n",
       "      <td>0</td>\n",
       "      <td>1</td>\n",
       "      <td>0</td>\n",
       "      <td>0</td>\n",
       "      <td>1</td>\n",
       "      <td>0</td>\n",
       "      <td>0</td>\n",
       "      <td>2</td>\n",
       "      <td>0</td>\n",
       "      <td>0</td>\n",
       "      <td>0</td>\n",
       "      <td>0</td>\n",
       "      <td>0</td>\n",
       "      <td>1</td>\n",
       "      <td>2</td>\n",
       "      <td>0</td>\n",
       "    </tr>\n",
       "    <tr>\n",
       "      <th>1</th>\n",
       "      <td>0</td>\n",
       "      <td>34</td>\n",
       "      <td>56.95</td>\n",
       "      <td>1889.50</td>\n",
       "      <td>1</td>\n",
       "      <td>0</td>\n",
       "      <td>0</td>\n",
       "      <td>1</td>\n",
       "      <td>0</td>\n",
       "      <td>0</td>\n",
       "      <td>2</td>\n",
       "      <td>0</td>\n",
       "      <td>2</td>\n",
       "      <td>0</td>\n",
       "      <td>0</td>\n",
       "      <td>0</td>\n",
       "      <td>1</td>\n",
       "      <td>0</td>\n",
       "      <td>3</td>\n",
       "      <td>0</td>\n",
       "    </tr>\n",
       "    <tr>\n",
       "      <th>2</th>\n",
       "      <td>0</td>\n",
       "      <td>2</td>\n",
       "      <td>53.85</td>\n",
       "      <td>108.15</td>\n",
       "      <td>1</td>\n",
       "      <td>0</td>\n",
       "      <td>0</td>\n",
       "      <td>1</td>\n",
       "      <td>0</td>\n",
       "      <td>0</td>\n",
       "      <td>2</td>\n",
       "      <td>2</td>\n",
       "      <td>0</td>\n",
       "      <td>0</td>\n",
       "      <td>0</td>\n",
       "      <td>0</td>\n",
       "      <td>0</td>\n",
       "      <td>1</td>\n",
       "      <td>3</td>\n",
       "      <td>1</td>\n",
       "    </tr>\n",
       "    <tr>\n",
       "      <th>3</th>\n",
       "      <td>0</td>\n",
       "      <td>45</td>\n",
       "      <td>42.30</td>\n",
       "      <td>1840.75</td>\n",
       "      <td>1</td>\n",
       "      <td>0</td>\n",
       "      <td>0</td>\n",
       "      <td>0</td>\n",
       "      <td>1</td>\n",
       "      <td>0</td>\n",
       "      <td>2</td>\n",
       "      <td>0</td>\n",
       "      <td>2</td>\n",
       "      <td>2</td>\n",
       "      <td>0</td>\n",
       "      <td>0</td>\n",
       "      <td>1</td>\n",
       "      <td>0</td>\n",
       "      <td>0</td>\n",
       "      <td>0</td>\n",
       "    </tr>\n",
       "    <tr>\n",
       "      <th>4</th>\n",
       "      <td>0</td>\n",
       "      <td>2</td>\n",
       "      <td>70.70</td>\n",
       "      <td>151.65</td>\n",
       "      <td>0</td>\n",
       "      <td>0</td>\n",
       "      <td>0</td>\n",
       "      <td>1</td>\n",
       "      <td>0</td>\n",
       "      <td>1</td>\n",
       "      <td>0</td>\n",
       "      <td>0</td>\n",
       "      <td>0</td>\n",
       "      <td>0</td>\n",
       "      <td>0</td>\n",
       "      <td>0</td>\n",
       "      <td>0</td>\n",
       "      <td>1</td>\n",
       "      <td>2</td>\n",
       "      <td>1</td>\n",
       "    </tr>\n",
       "  </tbody>\n",
       "</table>\n",
       "</div>"
      ],
      "text/plain": [
       "   SeniorCitizen  tenure  MonthlyCharges  TotalCharges  gender  Partner  \\\n",
       "0              0       1           29.85         29.85       0        1   \n",
       "1              0      34           56.95       1889.50       1        0   \n",
       "2              0       2           53.85        108.15       1        0   \n",
       "3              0      45           42.30       1840.75       1        0   \n",
       "4              0       2           70.70        151.65       0        0   \n",
       "\n",
       "   Dependents  PhoneService  MultipleLines  InternetService  OnlineSecurity  \\\n",
       "0           0             0              1                0               0   \n",
       "1           0             1              0                0               2   \n",
       "2           0             1              0                0               2   \n",
       "3           0             0              1                0               2   \n",
       "4           0             1              0                1               0   \n",
       "\n",
       "   OnlineBackup  DeviceProtection  TechSupport  StreamingTV  StreamingMovies  \\\n",
       "0             2                 0            0            0                0   \n",
       "1             0                 2            0            0                0   \n",
       "2             2                 0            0            0                0   \n",
       "3             0                 2            2            0                0   \n",
       "4             0                 0            0            0                0   \n",
       "\n",
       "   Contract  PaperlessBilling  PaymentMethod  Churn  \n",
       "0         0                 1              2      0  \n",
       "1         1                 0              3      0  \n",
       "2         0                 1              3      1  \n",
       "3         1                 0              0      0  \n",
       "4         0                 1              2      1  "
      ]
     },
     "execution_count": 12,
     "metadata": {},
     "output_type": "execute_result"
    }
   ],
   "source": [
    "# creating instance of LabelEncoder()\n",
    "enc = LabelEncoder()\n",
    "\n",
    "# create a listing of categorical columns\n",
    "category_features = [f for f in df.columns if df[f].dtype == object]\n",
    "\n",
    "# create a dataframe with the listing of categorical features\n",
    "df_category_features = pd.DataFrame(df, columns=category_features)\n",
    "\n",
    "for f in category_features:\n",
    "# Assigning numerical values and storing in another column\n",
    "    df_category_features[f] = enc.fit_transform(df_category_features[f])\n",
    "\n",
    "# replace category features with corresponding encoded labels\n",
    "df = df.drop(columns=category_features).join(df_category_features)\n",
    "\n",
    "# preview the data\n",
    "df.head()"
   ]
  },
  {
   "cell_type": "markdown",
   "metadata": {},
   "source": [
    "Next, we define the input features (X) and output label (y)"
   ]
  },
  {
   "cell_type": "code",
   "execution_count": 69,
   "metadata": {},
   "outputs": [],
   "source": [
    "# define the features (X) and target label (y) \n",
    "X = df.drop(columns=['Churn'])\n",
    "y = df['Churn'].values "
   ]
  },
  {
   "cell_type": "markdown",
   "metadata": {},
   "source": [
    "Then, we split the data into training (80%) and test (20%) sets"
   ]
  },
  {
   "cell_type": "code",
   "execution_count": 70,
   "metadata": {},
   "outputs": [],
   "source": [
    "# split into train (80%) and test (20%) sets\n",
    "X_train, X_test, y_train, y_test = train_test_split(X, y, test_size = 0.2, random_state=234)"
   ]
  },
  {
   "cell_type": "markdown",
   "metadata": {},
   "source": [
    "# 4. Model Selection, Training & Evaluation\n",
    "\n",
    "Training a machine learning model involves exposing it to a labeled dataset to learn the patterns and relationships between the input features and the output. During training, the model adjusts its parameters to minimize the difference between its predictions and the actual labels. After training, the model is tested on a separate dataset to evaluate its performance. Performance metrics are used to assess how well the model generalizes to new, unseen data.\n",
    "\n",
    "In this report, we will create, train and evaluate a machine learning model using decision tree and random forest classifiers."
   ]
  },
  {
   "cell_type": "markdown",
   "metadata": {},
   "source": [
    "- #### Decision Tree Classifier\n",
    "A decision tree classifier is a supervised machine learning algorithm that is used for both classification and regression tasks. Decision tree classifiers build a tree-like structure to make decisions by partitioning the input data into subsets based on the values of different features. The tree structure consists of nodes, where each node represents a decision based on a specific feature, and leaves represent the class labels.\n",
    "\n",
    "In this task, we create and tune a decision tree classifier with criterion hyperparameters for the cross validation and maximun tree depth."
   ]
  },
  {
   "cell_type": "code",
   "execution_count": 71,
   "metadata": {},
   "outputs": [
    {
     "name": "stdout",
     "output_type": "stream",
     "text": [
      "Best parameters: {'criterion': 'entropy', 'max_depth': 5}\n"
     ]
    }
   ],
   "source": [
    "# define the model\n",
    "model = DecisionTreeClassifier()\n",
    "\n",
    "# define model parameters\n",
    "tuned_parameters = [\n",
    "    {\"criterion\": [\"gini\", \"entropy\"], \n",
    "     \"max_depth\": [2, 3, 4, 5, 6, 7, 8, 9, 10]}\n",
    "]\n",
    "\n",
    "# get the best parameters\n",
    "grid_search = GridSearchCV(\n",
    "    model, tuned_parameters, scoring=\"accuracy\",cv=5)\n",
    "\n",
    "# fit the model with the best parameters\n",
    "grid_search.fit(X_train, y_train)\n",
    "\n",
    "# print the best parameters\n",
    "print(\"Best parameters:\", grid_search.best_params_)"
   ]
  },
  {
   "cell_type": "markdown",
   "metadata": {},
   "source": [
    "After tuning our decision tree classifier, we observed that best model parameter are *{'criterion': 'entropy', 'max_depth': 5}*\n",
    "\n",
    "Now, we are going to fit the model with these parameters, and compare their performance with the baseline performance"
   ]
  },
  {
   "cell_type": "code",
   "execution_count": 72,
   "metadata": {},
   "outputs": [
    {
     "name": "stdout",
     "output_type": "stream",
     "text": [
      "--------------------Grid Searched Decision Tree--------------------\n",
      "\n",
      "Performance report:\n",
      "\n",
      "              precision    recall  f1-score   support\n",
      "\n",
      "           0       0.81      0.90      0.85      1013\n",
      "           1       0.62      0.44      0.52       389\n",
      "\n",
      "    accuracy                           0.77      1402\n",
      "   macro avg       0.71      0.67      0.68      1402\n",
      "weighted avg       0.76      0.77      0.76      1402\n",
      "\n",
      "--------------------Baseline Decision Tree--------------------\n",
      "\n",
      "Performance report:\n",
      "\n",
      "              precision    recall  f1-score   support\n",
      "\n",
      "           0       0.81      0.79      0.80      1013\n",
      "           1       0.49      0.51      0.50       389\n",
      "\n",
      "    accuracy                           0.71      1402\n",
      "   macro avg       0.65      0.65      0.65      1402\n",
      "weighted avg       0.72      0.71      0.72      1402\n",
      "\n"
     ]
    }
   ],
   "source": [
    "# print report based on best-fit\n",
    "print(20*\"-\"+ \"Grid Searched Decision Tree\" + 20*\"-\")\n",
    "best_DecisionTree = DecisionTreeClassifier(criterion='entropy', max_depth=5)\n",
    "best_DecisionTree.fit(X_train, y_train)\n",
    "predictions = best_DecisionTree.predict(X_test)\n",
    "print(\"\\nPerformance report:\\n\")\n",
    "print(classification_report(y_test, predictions))\n",
    "\n",
    "# print report based on baseline\n",
    "print(20*\"-\"+ \"Baseline Decision Tree\" + 20*\"-\")\n",
    "baseline_DecisionTree = DecisionTreeClassifier()\n",
    "baseline_DecisionTree.fit(X_train, y_train)\n",
    "predictions = baseline_DecisionTree.predict(X_test)\n",
    "print(\"\\nPerformance report:\\n\")\n",
    "print(classification_report(y_test, predictions))"
   ]
  },
  {
   "cell_type": "markdown",
   "metadata": {},
   "source": [
    "Now, let's evaluate the performance of our decision tree model\n",
    "\n",
    "We can see that the best-fit model has a better performance with accuracy score of 77% compared to the baseline 71%."
   ]
  },
  {
   "cell_type": "markdown",
   "metadata": {},
   "source": [
    "- #### Random Forest Classifier\n",
    "\n",
    "The Random Forest Classifier is an ensemble learning algorithm that combines the predictions of multiple decision trees to improve the overall accuracy and robustness of the model. It is used for both classification and regression tasks. Random Forest builds a forest of decision trees and merges their predictions to provide a more reliable and accurate prediction. \n",
    "\n",
    "Like we did earlier, we will create and tune a random forest classifier model based on the best hypermeters, and compare the results to see if it beats the model we created earlier."
   ]
  },
  {
   "cell_type": "code",
   "execution_count": 73,
   "metadata": {},
   "outputs": [
    {
     "name": "stdout",
     "output_type": "stream",
     "text": [
      "Best parameters: {'criterion': 'entropy', 'max_depth': 10, 'max_features': 'sqrt', 'n_estimators': 50}\n"
     ]
    }
   ],
   "source": [
    "# define the model\n",
    "model = RandomForestClassifier(random_state=42)\n",
    "\n",
    "# define model parameters\n",
    "tuned_parameters =[\n",
    "    {\"n_estimators\": [10, 50, 100], \n",
    "     \"criterion\": [\"gini\", \"entropy\"], \n",
    "     \"max_depth\": [2, 4, 6, 10, 12, 14, 16, 18, 20], \n",
    "     \"max_features\": [\"sqrt\", \"log2\"]}\n",
    "]\n",
    "\n",
    "# get the best parameters\n",
    "grid_search = GridSearchCV(\n",
    "    model, tuned_parameters, scoring=\"accuracy\",cv=5)\n",
    "\n",
    "# fit the model with the best parameters\n",
    "grid_search.fit(X_train, y_train)\n",
    "\n",
    "# print the best parameters\n",
    "print(\"Best parameters:\", grid_search.best_params_)"
   ]
  },
  {
   "cell_type": "markdown",
   "metadata": {},
   "source": [
    "After tuning our random forest classifier, we observed that best model parameter are *{'criterion': 'entropy', 'max_depth': 10, 'max_features': 'sqrt', 'n_estimators': 50}*\n",
    "\n",
    "Now, we are going to fit the model with these parameters, and compare their performance with the baseline performance"
   ]
  },
  {
   "cell_type": "code",
   "execution_count": 74,
   "metadata": {},
   "outputs": [
    {
     "name": "stdout",
     "output_type": "stream",
     "text": [
      "--------------------Grid Searched Random Forest--------------------\n",
      "\n",
      "Performance report:\n",
      "\n",
      "              precision    recall  f1-score   support\n",
      "\n",
      "           0       0.84      0.90      0.87      1013\n",
      "           1       0.67      0.54      0.60       389\n",
      "\n",
      "    accuracy                           0.80      1402\n",
      "   macro avg       0.75      0.72      0.73      1402\n",
      "weighted avg       0.79      0.80      0.79      1402\n",
      "\n",
      "--------------------Baseline Random Forest--------------------\n",
      "\n",
      "Performance report:\n",
      "\n",
      "              precision    recall  f1-score   support\n",
      "\n",
      "           0       0.82      0.90      0.86      1013\n",
      "           1       0.65      0.47      0.55       389\n",
      "\n",
      "    accuracy                           0.78      1402\n",
      "   macro avg       0.73      0.69      0.70      1402\n",
      "weighted avg       0.77      0.78      0.77      1402\n",
      "\n"
     ]
    }
   ],
   "source": [
    "# print report based on best-fit\n",
    "print(20*\"-\"+ \"Grid Searched Random Forest\" + 20*\"-\")\n",
    "best_RandomForest = RandomForestClassifier(criterion='entropy', max_depth=10, max_features='sqrt', n_estimators=50)\n",
    "best_RandomForest.fit(X_train, y_train) \n",
    "predictions = best_RandomForest.predict(X_test)\n",
    "print(\"\\nPerformance report:\\n\")\n",
    "print(classification_report(y_test, predictions))\n",
    "\n",
    "# print report based on baseline\n",
    "print(20*\"-\"+ \"Baseline Random Forest\" + 20*\"-\")\n",
    "baseline_RandomForest = RandomForestClassifier()\n",
    "baseline_RandomForest.fit(X_train, y_train)\n",
    "predictions = baseline_RandomForest.predict(X_test)\n",
    "print(\"\\nPerformance report:\\n\")\n",
    "print(classification_report(y_test, predictions))\n"
   ]
  },
  {
   "cell_type": "markdown",
   "metadata": {},
   "source": [
    "Again, let's evaluate the performance of our random forest classifier\n",
    "\n",
    "As we can see, the best-fit model again has a better performance with accuracy score of 80% compared to the baseline 78%."
   ]
  },
  {
   "attachments": {},
   "cell_type": "markdown",
   "metadata": {},
   "source": [
    "# 5. Summary, Discussion & Conclusion\n",
    "In summary, we would say our model performed well with the data, scoring approxomately 78% and 80% on *accuracy* respectively. However, we noticed the random forest classifier had a better score. This is because a random forest classifier is typically an optimized version of a decision tree classifier model.\n",
    "\n",
    "However, to present further discussion on inferences obtained from the data, we will visually analyze the *Churn Score* with respect to the demographic and monetary attributes on the data. For the demographic features, we will do a univariate analysis of `Churn` to `gender`, `SeniorCitizen`, `Partner`, and `Dependents`. Similarly, for the monetary features, we will do a bivariate analysis of `Churn` to `Contract`, `MonthlyCharges` and `TotalCharges`."
   ]
  },
  {
   "cell_type": "code",
   "execution_count": 138,
   "metadata": {},
   "outputs": [
    {
     "data": {
      "image/png": "[encoded data removed]",
      "text/plain": [
       "<Figure size 800x600 with 1 Axes>"
      ]
     },
     "metadata": {},
     "output_type": "display_data"
    }
   ],
   "source": [
    "# get the value counts for 'Churn' column\n",
    "data_temp = df['Churn'].value_counts().sort_index()\n",
    "\n",
    "fig, ax = plt.subplots(figsize=(8, 6))\n",
    "\n",
    "# define the bar color palette\n",
    "color_palette =[\"#bcbddc\", \"#efedf5\"]\n",
    "\n",
    "# plot the bar chart\n",
    "ax.bar(data_temp.index, data_temp, width=0.55, color=color_palette, edgecolor=\"Black\")\n",
    "\n",
    "# set title and axis labels\n",
    "ax.set_title('Churn Distribution', loc='left', fontsize=19, fontweight='bold')\n",
    "ax.set_xlabel('Churn')\n",
    "ax.set_ylabel('Count')\n",
    "\n",
    "# annotate each bar with its count value\n",
    "for i, count in enumerate(data_temp):\n",
    "    ax.text(i, count + 50, str(count), ha='center', fontsize=12, fontweight='bold')\n",
    "\n",
    "# hide spines on top and right sides\n",
    "for s in ['top', 'right']:\n",
    "    ax.spines[s].set_visible(False)\n",
    "\n",
    "plt.tight_layout()\n",
    "plt.show()"
   ]
  },
  {
   "cell_type": "code",
   "execution_count": 127,
   "metadata": {},
   "outputs": [
    {
     "data": {
      "image/png": "[encoded data removed]",
      "text/plain": [
       "<Figure size 640x480 with 1 Axes>"
      ]
     },
     "metadata": {},
     "output_type": "display_data"
    }
   ],
   "source": [
    "# to annotate, convert the 'Churn' column to string \n",
    "df['Churn'] = df['Churn'].astype(str)\n",
    "\n",
    "# draw the count plot 'Churn' to 'gender'\n",
    "sns.countplot(data=df,  x='gender', palette=color_palette, hue='Churn', edgecolor=\"Black\", order=df['gender'].value_counts().index)\n",
    "sns.despine()"
   ]
  },
  {
   "cell_type": "code",
   "execution_count": 128,
   "metadata": {},
   "outputs": [
    {
     "data": {
      "image/png": "[encoded data removed]",
      "text/plain": [
       "<Figure size 640x480 with 1 Axes>"
      ]
     },
     "metadata": {},
     "output_type": "display_data"
    }
   ],
   "source": [
    "# draw the count plot 'Churn' to 'SeniorCitizen'\n",
    "sns.countplot(data=df, x='SeniorCitizen', palette=color_palette, hue='Churn', edgecolor = 'Black', order=df['SeniorCitizen'].value_counts().index)\n",
    "sns.despine()"
   ]
  },
  {
   "cell_type": "code",
   "execution_count": 132,
   "metadata": {},
   "outputs": [
    {
     "data": {
      "image/png": "[encoded data removed]",
      "text/plain": [
       "<Figure size 640x480 with 1 Axes>"
      ]
     },
     "metadata": {},
     "output_type": "display_data"
    }
   ],
   "source": [
    "# draw the count plot 'Churn' to 'Partner'\n",
    "sns.countplot(data=df, x='Partner', palette=color_palette, hue='Churn', edgecolor = 'Black', order=df['Partner'].value_counts().index)\n",
    "sns.despine()"
   ]
  },
  {
   "cell_type": "code",
   "execution_count": 133,
   "metadata": {},
   "outputs": [
    {
     "data": {
      "image/png": "[encoded data removed]",
      "text/plain": [
       "<Figure size 640x480 with 1 Axes>"
      ]
     },
     "metadata": {},
     "output_type": "display_data"
    }
   ],
   "source": [
    "# draw the count plot of 'Churn' to 'Dependents'\n",
    "sns.countplot(data=df, x='Dependents', palette=color_palette, hue='Churn', edgecolor = 'Black', order=df['Dependents'].value_counts().index)\n",
    "sns.despine()"
   ]
  },
  {
   "cell_type": "code",
   "execution_count": 134,
   "metadata": {},
   "outputs": [
    {
     "data": {
      "image/png": "[encoded data removed]",
      "text/plain": [
       "<Figure size 640x480 with 1 Axes>"
      ]
     },
     "metadata": {},
     "output_type": "display_data"
    }
   ],
   "source": [
    "# draw the count plot of 'Churn' to 'Contract'\n",
    "sns.countplot(data=df, x='Contract', palette=color_palette, hue='Churn', edgecolor = 'Black', order=df['Contract'].value_counts().index)\n",
    "sns.despine()"
   ]
  },
  {
   "cell_type": "code",
   "execution_count": 142,
   "metadata": {},
   "outputs": [
    {
     "data": {
      "text/plain": [
       "Text(0.5, 1.0, 'Distribution of monthly charges by churn')"
      ]
     },
     "execution_count": 142,
     "metadata": {},
     "output_type": "execute_result"
    },
    {
     "data": {
      "image/png": "[encoded data removed]",
      "text/plain": [
       "<Figure size 640x480 with 1 Axes>"
      ]
     },
     "metadata": {},
     "output_type": "display_data"
    }
   ],
   "source": [
    "# draw KDE plot of 'Churn' to 'MonthlyCharges'\n",
    "ax = sns.kdeplot(df['MonthlyCharges'][df['Churn'] == '0'], fill=True)\n",
    "ax = sns.kdeplot(df['MonthlyCharges'][df['Churn'] == '1'], ax=ax, fill=True)\n",
    "ax.legend([\"Not Churn\", \"Churn\"], loc='upper right')\n",
    "ax.set_ylabel(\"Density\")\n",
    "ax.set_xlabel(\"Monthly Charges\")\n",
    "ax.set_title(\"Distribution of monthly charges by churn\")"
   ]
  },
  {
   "cell_type": "code",
   "execution_count": 143,
   "metadata": {},
   "outputs": [
    {
     "data": {
      "image/png": "[encoded data removed]",
      "text/plain": [
       "<Figure size 640x480 with 1 Axes>"
      ]
     },
     "metadata": {},
     "output_type": "display_data"
    }
   ],
   "source": [
    "# draw KDE plot of 'Churn' to 'TotalCharges'\n",
    "ax = sns.kdeplot(df['TotalCharges'][df[\"Churn\"] == '0'], fill=True)\n",
    "ax = sns.kdeplot(df['TotalCharges'][df[\"Churn\"] == '1'], ax=ax, fill=True)\n",
    "ax.legend([\"Not Churn\", \"Churn\"],loc='upper right')\n",
    "ax.set_ylabel('Density')\n",
    "ax.set_xlabel('TotalCharges')\n",
    "ax.set_title('Distribution of Total Charges by churn');"
   ]
  },
  {
   "cell_type": "markdown",
   "metadata": {},
   "source": [
    "As we can visually see, the following inferences can be made from the charts above.\n",
    "1. The churn rate is about 1 to 3. Precisely, 1857 customers will churn, compared to 5153 that will not.\n",
    "2. There was no significant difference between the *Churn* and *Not Churn* with respect to `gender`. Customers with these attributes behaved the same way. Some chruned, others did not. However, there's a much wider between the *Churn* and *Not Churn* with respect to `Dependents` and `Partner`. This showed that customers with these attributes responded differntly, with more tendency of customers having partners likely to *Churn*.\n",
    "3. There's a high probablity that `SeniorCitizen` and customers on monthly contract will *Churn*.\n",
    "4. When comparing the charges, customers with high monthly charges are more likely to *Churn*. Contrastly, customers with higher total charges didn't *Churn* when compared to customers in the monthly category.\n",
    "\n",
    "In conclusion, the business should give more incentives to customers with partners and dependents as these category of customers could represent those that are more likely to *Churn* after the first month of their contract."
   ]
  },
  {
   "attachments": {},
   "cell_type": "markdown",
   "metadata": {},
   "source": [
    "--- \n",
    "\n",
    "# References \n",
    "\n",
    "Sources:\n",
    "\n",
    "- Introduction to Machine Learning - *Lecture Notes (Week 8)*\n",
    "- Data Ingestion - https://www.w3schools.com/python/pandas/pandas_csv.asp\n",
    "- Data cleaning - https://www.w3schools.com/python/pandas/pandas_cleaning.asp\n",
    "- Visualization code snippets - https://www.kaggle.com/datasets/blastchar/telco-customer-churn/code"
   ]
  }
 ],
 "metadata": {
  "kernelspec": {
   "display_name": "Python 3.5.5 ('giraffe-healthcare')",
   "language": "python",
   "name": "python3"
  },
  "language_info": {
   "codemirror_mode": {
    "name": "ipython",
    "version": 3
   },
   "file_extension": ".py",
   "mimetype": "text/x-python",
   "name": "python",
   "nbconvert_exporter": "python",
   "pygments_lexer": "ipython3",
   "version": "3.9.18"
  },
  "orig_nbformat": 4,
  "vscode": {
   "interpreter": {
    "hash": "0f4fa1dff685cf8b0e8f68ac358400f6497cf659b705a84b1e00c6e6dfedb2d9"
   }
  }
 },
 "nbformat": 4,
 "nbformat_minor": 2
}
